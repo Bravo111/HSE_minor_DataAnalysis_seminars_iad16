{
 "cells": [
  {
   "cell_type": "markdown",
   "metadata": {},
   "source": [
    "### Майнор Интеллектуальный анализ данных, курс Введение в анализ данных. Семинар 12. Решающие деревья\n",
    "\n",
    "##### Надежда Чиркова"
   ]
  },
  {
   "cell_type": "markdown",
   "metadata": {},
   "source": [
    "Деревья в документации sklearn на примере iris:\n",
    "[http://scikit-learn.org/stable/modules/tree.html](http://scikit-learn.org/stable/modules/tree.html)"
   ]
  },
  {
   "cell_type": "code",
   "execution_count": 1,
   "metadata": {
    "collapsed": false
   },
   "outputs": [],
   "source": [
    "import numpy as np\n",
    "import pandas\n",
    "from matplotlib import pyplot as plt\n",
    "%matplotlib inline\n",
    "import matplotlib.cm as cm"
   ]
  },
  {
   "cell_type": "markdown",
   "metadata": {},
   "source": [
    "Будем работать с датасетом [Page Blocks Classification Data Set](http://archive.ics.uci.edu/ml/datasets/Page+Blocks+Classification)\n",
    "\n",
    "Признаки:\n",
    "* height: integer. | Height of the block. \n",
    "* lenght: integer. | Length of the block. \n",
    "* area: integer. | Area of the block (height * lenght); \n",
    "* eccen: continuous. | Eccentricity of the block (lenght / height); \n",
    "* p_black: continuous. | Percentage of black pixels within the block (blackpix / area); \n",
    "* p_and: continuous. | Percentage of black pixels after the application of the Run Length Smoothing Algorithm (RLSA) (blackand / area); \n",
    "* mean_tr: continuous. | Mean number of white-black transitions (blackpix / wb_trans); \n",
    "* blackpix: integer. | Total number of black pixels in the original bitmap of the block. \n",
    "* blackand: integer. | Total number of black pixels in the bitmap of the block after the RLSA. \n",
    "* wb_trans: integer. | Number of white-black transitions in the original bitmap of the block.\n",
    "\n",
    "Целевая переменная (последняя колонка):\n",
    "\n",
    "text, horiz. line , graphic, vert. line, picture   \n",
    "\n",
    "Нормализацию делать не будем, потому что хотим уделить внимание интерпретируемости"
   ]
  },
  {
   "cell_type": "code",
   "execution_count": 2,
   "metadata": {
    "collapsed": false
   },
   "outputs": [],
   "source": [
    "#df = pandas.read_csv(\"house-votes-1984.txt\")\n",
    "df = pandas.read_csv(\"page-blocks.csv\", sep=\" \", header=None)"
   ]
  },
  {
   "cell_type": "code",
   "execution_count": 3,
   "metadata": {
    "collapsed": false
   },
   "outputs": [
    {
     "data": {
      "text/html": [
       "<div>\n",
       "<table border=\"1\" class=\"dataframe\">\n",
       "  <thead>\n",
       "    <tr style=\"text-align: right;\">\n",
       "      <th></th>\n",
       "      <th>0</th>\n",
       "      <th>1</th>\n",
       "      <th>2</th>\n",
       "      <th>3</th>\n",
       "      <th>4</th>\n",
       "      <th>5</th>\n",
       "      <th>6</th>\n",
       "      <th>7</th>\n",
       "      <th>8</th>\n",
       "      <th>9</th>\n",
       "      <th>10</th>\n",
       "    </tr>\n",
       "  </thead>\n",
       "  <tbody>\n",
       "    <tr>\n",
       "      <th>0</th>\n",
       "      <td>5</td>\n",
       "      <td>7</td>\n",
       "      <td>35</td>\n",
       "      <td>1.400</td>\n",
       "      <td>0.400</td>\n",
       "      <td>0.657</td>\n",
       "      <td>2.33</td>\n",
       "      <td>14</td>\n",
       "      <td>23</td>\n",
       "      <td>6</td>\n",
       "      <td>1</td>\n",
       "    </tr>\n",
       "    <tr>\n",
       "      <th>1</th>\n",
       "      <td>6</td>\n",
       "      <td>7</td>\n",
       "      <td>42</td>\n",
       "      <td>1.167</td>\n",
       "      <td>0.429</td>\n",
       "      <td>0.881</td>\n",
       "      <td>3.60</td>\n",
       "      <td>18</td>\n",
       "      <td>37</td>\n",
       "      <td>5</td>\n",
       "      <td>1</td>\n",
       "    </tr>\n",
       "    <tr>\n",
       "      <th>2</th>\n",
       "      <td>6</td>\n",
       "      <td>18</td>\n",
       "      <td>108</td>\n",
       "      <td>3.000</td>\n",
       "      <td>0.287</td>\n",
       "      <td>0.741</td>\n",
       "      <td>4.43</td>\n",
       "      <td>31</td>\n",
       "      <td>80</td>\n",
       "      <td>7</td>\n",
       "      <td>1</td>\n",
       "    </tr>\n",
       "    <tr>\n",
       "      <th>3</th>\n",
       "      <td>5</td>\n",
       "      <td>7</td>\n",
       "      <td>35</td>\n",
       "      <td>1.400</td>\n",
       "      <td>0.371</td>\n",
       "      <td>0.743</td>\n",
       "      <td>4.33</td>\n",
       "      <td>13</td>\n",
       "      <td>26</td>\n",
       "      <td>3</td>\n",
       "      <td>1</td>\n",
       "    </tr>\n",
       "    <tr>\n",
       "      <th>4</th>\n",
       "      <td>6</td>\n",
       "      <td>3</td>\n",
       "      <td>18</td>\n",
       "      <td>0.500</td>\n",
       "      <td>0.500</td>\n",
       "      <td>0.944</td>\n",
       "      <td>2.25</td>\n",
       "      <td>9</td>\n",
       "      <td>17</td>\n",
       "      <td>4</td>\n",
       "      <td>1</td>\n",
       "    </tr>\n",
       "  </tbody>\n",
       "</table>\n",
       "</div>"
      ],
      "text/plain": [
       "   0   1    2      3      4      5     6   7   8   9   10\n",
       "0   5   7   35  1.400  0.400  0.657  2.33  14  23   6   1\n",
       "1   6   7   42  1.167  0.429  0.881  3.60  18  37   5   1\n",
       "2   6  18  108  3.000  0.287  0.741  4.43  31  80   7   1\n",
       "3   5   7   35  1.400  0.371  0.743  4.33  13  26   3   1\n",
       "4   6   3   18  0.500  0.500  0.944  2.25   9  17   4   1"
      ]
     },
     "execution_count": 3,
     "metadata": {},
     "output_type": "execute_result"
    }
   ],
   "source": [
    "df.head()"
   ]
  },
  {
   "cell_type": "code",
   "execution_count": 4,
   "metadata": {
    "collapsed": false
   },
   "outputs": [
    {
     "data": {
      "text/plain": [
       "(5473, 11)"
      ]
     },
     "execution_count": 4,
     "metadata": {},
     "output_type": "execute_result"
    }
   ],
   "source": [
    "df.shape"
   ]
  },
  {
   "cell_type": "code",
   "execution_count": 5,
   "metadata": {
    "collapsed": true
   },
   "outputs": [],
   "source": [
    "X = df.values[:, :-1]\n",
    "y = df.values[:, -1]"
   ]
  },
  {
   "cell_type": "code",
   "execution_count": 19,
   "metadata": {
    "collapsed": false
   },
   "outputs": [
    {
     "data": {
      "text/plain": [
       "5"
      ]
     },
     "execution_count": 19,
     "metadata": {},
     "output_type": "execute_result"
    }
   ],
   "source": [
    "n_classes = len(set(y))\n",
    "n_classes"
   ]
  },
  {
   "cell_type": "code",
   "execution_count": 88,
   "metadata": {
    "collapsed": false
   },
   "outputs": [
    {
     "data": {
      "text/plain": [
       "(-10, 200)"
      ]
     },
     "execution_count": 88,
     "metadata": {},
     "output_type": "execute_result"
    },
    {
     "data": {
      "image/png": "[encoded data removed]",
      "text/plain": [
       "<matplotlib.figure.Figure at 0x24a8e5c0>"
      ]
     },
     "metadata": {},
     "output_type": "display_data"
    }
   ],
   "source": [
    "# Попробуем визуализировать разные пары признаков\n",
    "colors = cm.rainbow(np.linspace(0, 1, 5))\n",
    "for i in range(1, 6):\n",
    "    plt.scatter(X[y==i, 3], X[y==i, 0], color=colors[i-1])\n",
    "plt.xlabel(\"width\")\n",
    "plt.ylabel(\"height\")\n",
    "plt.xlim(-10, 200)\n",
    "plt.ylim(-10, 200)"
   ]
  },
  {
   "cell_type": "markdown",
   "metadata": {},
   "source": [
    "Видим, что все гораздо менее идеально, чем в <<игрушечных>> ирисах."
   ]
  },
  {
   "cell_type": "code",
   "execution_count": 6,
   "metadata": {
    "collapsed": false
   },
   "outputs": [],
   "source": [
    "from sklearn.utils import shuffle"
   ]
  },
  {
   "cell_type": "code",
   "execution_count": 7,
   "metadata": {
    "collapsed": false
   },
   "outputs": [],
   "source": [
    "# Задача: разделить выборку на трейн и тест и преобразовать признаки с 0 и 1\n",
    "permut = np.random.permutation(np.arange(X.shape[0]))\n",
    "l = 3000\n",
    "train_X = X[permut[:l]]\n",
    "train_y = y[permut[:l]]\n",
    "test_X = X[permut[l:]]\n",
    "test_y = y[permut[l:]]"
   ]
  },
  {
   "cell_type": "code",
   "execution_count": 8,
   "metadata": {
    "collapsed": false
   },
   "outputs": [],
   "source": [
    "from sklearn import tree"
   ]
  },
  {
   "cell_type": "code",
   "execution_count": 76,
   "metadata": {
    "collapsed": false
   },
   "outputs": [],
   "source": [
    "clf = tree.DecisionTreeClassifier()\n",
    "clf = clf.fit(train_X, train_y)\n",
    "predict = clf.predict(test_X)"
   ]
  },
  {
   "cell_type": "code",
   "execution_count": 58,
   "metadata": {
    "collapsed": false
   },
   "outputs": [
    {
     "data": {
      "text/plain": [
       "0.96198948645369997"
      ]
     },
     "execution_count": 58,
     "metadata": {},
     "output_type": "execute_result"
    }
   ],
   "source": [
    "# Accuracy\n",
    "np.mean(predict==test_y)"
   ]
  },
  {
   "cell_type": "code",
   "execution_count": 77,
   "metadata": {
    "collapsed": false
   },
   "outputs": [
    {
     "data": {
      "text/plain": [
       "array([ 0.44764496,  0.01747259,  0.01385871,  0.29082858,  0.06906491,\n",
       "        0.02321186,  0.09467414,  0.02574351,  0.00754671,  0.00995403])"
      ]
     },
     "execution_count": 77,
     "metadata": {},
     "output_type": "execute_result"
    }
   ],
   "source": [
    "clf.feature_importances_   # Это только важность, их нельзя трактовать как вес в линейных моделях"
   ]
  },
  {
   "cell_type": "code",
   "execution_count": 11,
   "metadata": {
    "collapsed": true
   },
   "outputs": [
    {
     "name": "stdout",
     "output_type": "stream",
     "text": [
      "[ 0  6  4  6 -2  3  7 -2  0 -2 -2 -2  3 -2  4  4 -2 -2  6 -2  6 -2 -2  3  5\n",
      " -2  3 -2  1 -2 -2  7  3  7  3 -2 -2  2  6 -2  6 -2  3 -2 -2 -2 -2  4  6 -2\n",
      " -2  6  8 -2 -2  4 -2  6 -2  7 -2 -2  3  3  3 -2  7  2 -2 -2  8  5 -2  2 -2\n",
      " -2  2 -2 -2  4 -2 -2  0  6  7  3  8  5 -2  8  2 -2 -2 -2  2  5  6 -2  4  0\n",
      "  9  4 -2 -2 -2 -2  4 -2 -2 -2  8 -2  9 -2 -2  6  3 -2 -2  6 -2  3 -2 -2  5\n",
      "  6 -2  6  5 -2 -2  0  4  1 -2 -2 -2  4 -2 -2  4  3  4  9  2 -2 -2 -2 -2 -2\n",
      "  8  5  5 -2 -2 -2  0  8  2 -2  5  3  6 -2 -2 -2  2 -2 -2 -2  6  7 -2 -2 -2\n",
      "  3  7 -2  4  8 -2 -2 -2  5 -2 -2  4  3 -2  2  3  4  4 -2 -2 -2 -2 -2  3  6\n",
      "  4 -2 -2 -2  1 -2  3 -2 -2]\n",
      "[  1   2   3   4  -1   6   7  -1   9  -1  -1  -1  13  -1  15  16  -1  -1\n",
      "  19  -1  21  -1  -1  24  25  -1  27  -1  29  -1  -1  32  33  34  35  -1\n",
      "  -1  38  39  -1  41  -1  43  -1  -1  -1  -1  48  49  -1  -1  52  53  -1\n",
      "  -1  56  -1  58  -1  60  -1  -1  63  64  65  -1  67  68  -1  -1  71  72\n",
      "  -1  74  -1  -1  77  -1  -1  80  -1  -1  83  84  85  86  87  88  -1  90\n",
      "  91  -1  -1  -1  95  96  97  -1  99 100 101 102  -1  -1  -1  -1 107  -1\n",
      "  -1  -1 111  -1 113  -1  -1 116 117  -1  -1 120  -1 122  -1  -1 125 126\n",
      "  -1 128 129  -1  -1 132 133 134  -1  -1  -1 138  -1  -1 141 142 143 144\n",
      " 145  -1  -1  -1  -1  -1 151 152 153  -1  -1  -1 157 158 159  -1 161 162\n",
      " 163  -1  -1  -1 167  -1  -1  -1 171 172  -1  -1  -1 176 177  -1 179 180\n",
      "  -1  -1  -1 184  -1  -1 187 188  -1 190 191 192 193  -1  -1  -1  -1  -1\n",
      " 199 200 201  -1  -1  -1 205  -1 207  -1  -1]\n",
      "[ 62  23  12   5  -1  11   8  -1  10  -1  -1  -1  14  -1  18  17  -1  -1\n",
      "  20  -1  22  -1  -1  31  26  -1  28  -1  30  -1  -1  47  46  37  36  -1\n",
      "  -1  45  40  -1  42  -1  44  -1  -1  -1  -1  51  50  -1  -1  55  54  -1\n",
      "  -1  57  -1  59  -1  61  -1  -1  82  79  66  -1  70  69  -1  -1  76  73\n",
      "  -1  75  -1  -1  78  -1  -1  81  -1  -1 186 175 124 115  94  89  -1  93\n",
      "  92  -1  -1  -1 110 109  98  -1 106 105 104 103  -1  -1  -1  -1 108  -1\n",
      "  -1  -1 112  -1 114  -1  -1 119 118  -1  -1 121  -1 123  -1  -1 140 127\n",
      "  -1 131 130  -1  -1 137 136 135  -1  -1  -1 139  -1  -1 150 149 148 147\n",
      " 146  -1  -1  -1  -1  -1 156 155 154  -1  -1  -1 170 169 160  -1 166 165\n",
      " 164  -1  -1  -1 168  -1  -1  -1 174 173  -1  -1  -1 183 178  -1 182 181\n",
      "  -1  -1  -1 185  -1  -1 198 189  -1 197 196 195 194  -1  -1  -1  -1  -1\n",
      " 204 203 202  -1  -1  -1 206  -1 208  -1  -1]\n",
      "[  3.50000000e+00   3.58500004e+00   4.06000018e-01   1.36500001e+00\n",
      "  -2.00000000e+00   2.65000000e+01   1.65000000e+01  -2.00000000e+00\n",
      "   2.50000000e+00  -2.00000000e+00  -2.00000000e+00  -2.00000000e+00\n",
      "   1.25000000e+01  -2.00000000e+00   4.50999975e-01   4.25000012e-01\n",
      "  -2.00000000e+00  -2.00000000e+00   2.50000000e+00  -2.00000000e+00\n",
      "   2.82000017e+00  -2.00000000e+00  -2.00000000e+00   7.50000000e+00\n",
      "   9.77499962e-01  -2.00000000e+00   2.16650009e+00  -2.00000000e+00\n",
      "   6.50000000e+00  -2.00000000e+00  -2.00000000e+00   1.05000000e+01\n",
      "   1.25000000e+01   7.50000000e+00   8.50000000e+00  -2.00000000e+00\n",
      "  -2.00000000e+00   1.05000000e+01   6.00000000e+00  -2.00000000e+00\n",
      "   8.50000000e+00  -2.00000000e+00   9.50000000e+00  -2.00000000e+00\n",
      "  -2.00000000e+00  -2.00000000e+00  -2.00000000e+00   2.95500010e-01\n",
      "   6.65499973e+00  -2.00000000e+00  -2.00000000e+00   4.09000015e+00\n",
      "   2.30000000e+01  -2.00000000e+00  -2.00000000e+00   9.99000013e-01\n",
      "  -2.00000000e+00   2.10000000e+01  -2.00000000e+00   2.55000000e+01\n",
      "  -2.00000000e+00  -2.00000000e+00   2.24999994e-01   1.78499997e-01\n",
      "   1.07999995e-01  -2.00000000e+00   7.50000000e+00   7.50000000e+00\n",
      "  -2.00000000e+00  -2.00000000e+00   1.37000000e+02   8.52999985e-01\n",
      "  -2.00000000e+00   8.50000000e+00  -2.00000000e+00  -2.00000000e+00\n",
      "   4.00500000e+03  -2.00000000e+00  -2.00000000e+00   4.30000007e-01\n",
      "  -2.00000000e+00  -2.00000000e+00   2.75000000e+01   2.12950001e+01\n",
      "   1.05000000e+01   1.22500002e+00   8.50000000e+00   6.00000024e-01\n",
      "  -2.00000000e+00   7.50000000e+00   9.00000000e+00  -2.00000000e+00\n",
      "  -2.00000000e+00  -2.00000000e+00   3.55000000e+01   7.23500013e-01\n",
      "   2.00000000e+00  -2.00000000e+00   6.03000045e-01   5.50000000e+00\n",
      "   2.50000000e+00   4.74999994e-01  -2.00000000e+00  -2.00000000e+00\n",
      "  -2.00000000e+00  -2.00000000e+00   6.78499997e-01  -2.00000000e+00\n",
      "  -2.00000000e+00  -2.00000000e+00   2.80000000e+01  -2.00000000e+00\n",
      "   3.00000000e+00  -2.00000000e+00  -2.00000000e+00   1.73499990e+00\n",
      "   2.08349991e+00  -2.00000000e+00  -2.00000000e+00   5.50000000e+00\n",
      "  -2.00000000e+00   1.34299994e+00  -2.00000000e+00  -2.00000000e+00\n",
      "   3.91499996e-01   1.71000004e+00  -2.00000000e+00   2.49000001e+00\n",
      "   2.76499987e-01  -2.00000000e+00  -2.00000000e+00   7.50000000e+00\n",
      "   1.67500004e-01   9.45000000e+01  -2.00000000e+00  -2.00000000e+00\n",
      "  -2.00000000e+00   2.30000004e-01  -2.00000000e+00  -2.00000000e+00\n",
      "   1.57499999e-01   2.98799992e+00   1.43500000e-01   5.50000000e+00\n",
      "   1.09500000e+02  -2.00000000e+00  -2.00000000e+00  -2.00000000e+00\n",
      "  -2.00000000e+00  -2.00000000e+00   1.95000000e+01   6.30499959e-01\n",
      "   5.34500003e-01  -2.00000000e+00  -2.00000000e+00  -2.00000000e+00\n",
      "   2.45000000e+01   8.95000000e+01   1.19500000e+02  -2.00000000e+00\n",
      "   6.87500000e-01   1.43350005e+00   2.18499994e+00  -2.00000000e+00\n",
      "  -2.00000000e+00  -2.00000000e+00   1.24000000e+02  -2.00000000e+00\n",
      "  -2.00000000e+00  -2.00000000e+00   1.79500008e+00   8.70000000e+02\n",
      "  -2.00000000e+00  -2.00000000e+00  -2.00000000e+00   1.27369995e+01\n",
      "   2.60000000e+01  -2.00000000e+00   2.37499997e-01   1.71000000e+02\n",
      "  -2.00000000e+00  -2.00000000e+00  -2.00000000e+00   1.84000000e-01\n",
      "  -2.00000000e+00  -2.00000000e+00   3.00999999e-01   3.34499979e+00\n",
      "  -2.00000000e+00   2.59050000e+04   1.08634996e+01   2.01000005e-01\n",
      "   1.43999994e-01  -2.00000000e+00  -2.00000000e+00  -2.00000000e+00\n",
      "  -2.00000000e+00  -2.00000000e+00   1.35049999e+00   4.07999992e+00\n",
      "   5.67499995e-01  -2.00000000e+00  -2.00000000e+00  -2.00000000e+00\n",
      "   3.19000000e+02  -2.00000000e+00   5.37750006e+00  -2.00000000e+00\n",
      "  -2.00000000e+00]\n"
     ]
    }
   ],
   "source": [
    "# Так дерево представлено в классификаторе\n",
    "print clf.tree_.feature\n",
    "print clf.tree_.children_left\n",
    "print clf.tree_.children_right\n",
    "print clf.tree_.threshold"
   ]
  },
  {
   "cell_type": "code",
   "execution_count": 12,
   "metadata": {
    "collapsed": false
   },
   "outputs": [
    {
     "data": {
      "text/plain": [
       "True"
      ]
     },
     "execution_count": 12,
     "metadata": {},
     "output_type": "execute_result"
    }
   ],
   "source": [
    "# С помощью утилиты graphviz (brew install graphviz на Mac, на Windows - google it :)\n",
    "# и модуля pydot можно построить дерево в виде pdf\n",
    "from sklearn.externals.six import StringIO  \n",
    "import pydot\n",
    "reload(pydot)\n",
    "dot_data = StringIO() \n",
    "tree.export_graphviz(clf, out_file=dot_data) \n",
    "graph = pydot.graph_from_dot_data(dot_data.getvalue()) \n",
    "graph.write_pdf(\"tree.pdf\")"
   ]
  },
  {
   "cell_type": "markdown",
   "metadata": {},
   "source": [
    "На этот раз дерево получилось гораздо больше. Можно заметить, что давать интерпретацию его решениям достаточно сложно."
   ]
  },
  {
   "cell_type": "markdown",
   "metadata": {},
   "source": [
    "Построим разделяющую поверхность, для этого сгенерируем много модельных точек (по сетке). Обратите внимание, что для каждого изображения мы будем заново обучать классификатор, потому что иначе количество признаков в обучении не совпадет с этим числом в контроле."
   ]
  },
  {
   "cell_type": "code",
   "execution_count": 91,
   "metadata": {
    "collapsed": false
   },
   "outputs": [
    {
     "data": {
      "image/png": "[encoded data removed]",
      "text/plain": [
       "<matplotlib.figure.Figure at 0x24753b70>"
      ]
     },
     "metadata": {},
     "output_type": "display_data"
    }
   ],
   "source": [
    "def plot(clf, i, j, x_min, x_max, y_min, y_max, plot_step=1): \n",
    "    xx, yy = np.meshgrid(np.arange(x_min, x_max, plot_step),\n",
    "                         np.arange(y_min, y_max, plot_step))\n",
    "\n",
    "    clf.fit(X[:, [i, j]], y)\n",
    "\n",
    "    Z = clf.predict(np.c_[xx.ravel(), yy.ravel()])\n",
    "    Z = Z.reshape(xx.shape)\n",
    "    cs = plt.contourf(xx, yy, Z, cmap=plt.cm.Paired)\n",
    "    plt.axis(\"tight\")\n",
    "\n",
    "    for k in range(1, 6):\n",
    "        plt.scatter(X[y==k, i], X[y==k, j], c=colors[k-1])\n",
    "    plt.xlabel(\"width\")\n",
    "    plt.ylabel(\"height\")\n",
    "    \n",
    "clf = tree.DecisionTreeClassifier() \n",
    "plot(clf, 1, 0, -10, 200, -10, 200)"
   ]
  },
  {
   "cell_type": "markdown",
   "metadata": {},
   "source": [
    "Далее стоит разобраться с [параметрами классификатора](http://scikit-learn.org/stable/modules/generated/sklearn.tree.DecisionTreeClassifier.html#sklearn.tree.DecisionTreeClassifier)\n",
    "\n",
    "Мы будем наблюдать эффект на паре переменных 1 - 0, потому что так нагляднее. \n",
    "\n",
    "Пробуем менять splitter=\"random\" --- поверхность перестает быть повторяемой\n",
    "\n",
    "max_features=\"log2\" --- поверхность усложняется\n",
    "\n",
    "max_depth=3 --- поверхность сильно упрощается, появляются ошибки классификации трейна (это логично), но качество на тесте (примерно) такое же\n",
    "\n",
    "min_samples_leaf=5 --- квадраты становятся больше, снова ошибки классификации на трейне (логично)\n",
    "\n",
    "max_leaf_nodes=10 --- снова структура упрощается.\n",
    "\n",
    "random_state --- структура меняется при разных значениях."
   ]
  },
  {
   "cell_type": "code",
   "execution_count": 103,
   "metadata": {
    "collapsed": false
   },
   "outputs": [
    {
     "name": "stdout",
     "output_type": "stream",
     "text": [
      "0.967246259604\n"
     ]
    },
    {
     "data": {
      "image/png": "[encoded data removed]",
      "text/plain": [
       "<matplotlib.figure.Figure at 0x281f6550>"
      ]
     },
     "metadata": {},
     "output_type": "display_data"
    }
   ],
   "source": [
    "clf = tree.DecisionTreeClassifier(random_state=45)\n",
    "clf.fit(train_X, train_y)\n",
    "predict = clf.predict(test_X)\n",
    "print np.mean(predict==test_y)\n",
    "plot(clf, 1, 0, -10, 200, -10, 200)"
   ]
  },
  {
   "cell_type": "code",
   "execution_count": 108,
   "metadata": {
    "collapsed": false
   },
   "outputs": [
    {
     "data": {
      "text/plain": [
       "True"
      ]
     },
     "execution_count": 108,
     "metadata": {},
     "output_type": "execute_result"
    }
   ],
   "source": [
    "# Давайте визуализируем дерево с max_depth=3\n",
    "clf = tree.DecisionTreeClassifier(max_depth=3)\n",
    "clf.fit(train_X, train_y)\n",
    "dot_data = StringIO() \n",
    "tree.export_graphviz(clf, out_file=dot_data) \n",
    "graph = pydot.graph_from_dot_data(dot_data.getvalue()) \n",
    "graph.write_pdf(\"tree_short.pdf\")"
   ]
  },
  {
   "cell_type": "code",
   "execution_count": 109,
   "metadata": {
    "collapsed": false
   },
   "outputs": [
    {
     "data": {
      "text/plain": [
       "array([ 0.64167624,  0.        ,  0.        ,  0.27479597,  0.01994441,\n",
       "        0.        ,  0.06358339,  0.        ,  0.        ,  0.        ])"
      ]
     },
     "execution_count": 109,
     "metadata": {},
     "output_type": "execute_result"
    }
   ],
   "source": [
    "clf.feature_importances_   \n",
    "# Отбор признаков даже получился! Введение ограничений на модель - концептуальный аналог регуляризации"
   ]
  },
  {
   "cell_type": "markdown",
   "metadata": {},
   "source": [
    "Параметры сильно влияют на структуру дерева: мы либо усложняем его, минимизируя ошибку на обучении, либо упрощаем, делая разделяющую поверхность более понятной. И что же это напоминает...\n",
    "\n",
    "Вопрос внимательным и сдашим коллоквиум: почему мы не наблюдаем переобучение по метрике качества?"
   ]
  },
  {
   "cell_type": "code",
   "execution_count": 146,
   "metadata": {
    "collapsed": true
   },
   "outputs": [
    {
     "name": "stdout",
     "output_type": "stream",
     "text": [
      "Классы не сбалансированы\n",
      "(array([4913,  329,   28,  203], dtype=int64), array([ 1.,  2.,  3.,  4.,  5.]))\n"
     ]
    }
   ],
   "source": [
    "# ответ в Out"
   ]
  },
  {
   "cell_type": "code",
   "execution_count": 111,
   "metadata": {
    "collapsed": true
   },
   "outputs": [],
   "source": [
    "from sklearn.metrics import f1_score\n",
    "from sklearn.cross_validation import cross_val_score"
   ]
  },
  {
   "cell_type": "code",
   "execution_count": 141,
   "metadata": {
    "collapsed": false
   },
   "outputs": [
    {
     "data": {
      "text/plain": [
       "0.8137500156839037"
      ]
     },
     "execution_count": 141,
     "metadata": {},
     "output_type": "execute_result"
    }
   ],
   "source": [
    "clf = tree.DecisionTreeClassifier(random_state=87)\n",
    "clf.fit(train_X, train_y)\n",
    "predict = clf.predict(test_X)\n",
    "f1_score(test_y, predict, average=\"macro\")"
   ]
  },
  {
   "cell_type": "markdown",
   "metadata": {},
   "source": [
    "Посмотрим на f1_macro на кросс-валидации:"
   ]
  },
  {
   "cell_type": "code",
   "execution_count": 150,
   "metadata": {
    "collapsed": false
   },
   "outputs": [
    {
     "data": {
      "text/plain": [
       "0.73510178677532456"
      ]
     },
     "execution_count": 150,
     "metadata": {},
     "output_type": "execute_result"
    }
   ],
   "source": [
    "cross_val_score(tree.DecisionTreeClassifier(), X, y, \"f1_macro\").mean()"
   ]
  },
  {
   "cell_type": "markdown",
   "metadata": {},
   "source": [
    "Вопрос: какие бы вы предложили идеи, как улучшить качество классификации с помощью деревьев?\n",
    "\n",
    "Так люди и пришли к RandomForest. Но о нем в следующих сериях."
   ]
  },
  {
   "cell_type": "markdown",
   "metadata": {},
   "source": [
    "### Задание для самостоятельной работы\n",
    "С помощью кросс-валидации найдите оптимальные значения параметрво среди следующих:\n",
    "\n",
    "\"max_depth\":[2, 4, 8, 16], \"criterion\":[\"gini\", \"entropy\"], \"min_samples_leaf\":[1, 10, 50], \n",
    "              \"max_leaf_nodes\":[10, 100, 1000]"
   ]
  },
  {
   "cell_type": "code",
   "execution_count": 147,
   "metadata": {
    "collapsed": true
   },
   "outputs": [],
   "source": [
    "from sklearn.grid_search import GridSearchCV"
   ]
  },
  {
   "cell_type": "code",
   "execution_count": 163,
   "metadata": {
    "collapsed": false
   },
   "outputs": [
    {
     "data": {
      "text/plain": [
       "GridSearchCV(cv=None, error_score='raise',\n",
       "       estimator=DecisionTreeClassifier(class_weight=None, criterion='gini', max_depth=None,\n",
       "            max_features=None, max_leaf_nodes=None, min_samples_leaf=1,\n",
       "            min_samples_split=2, min_weight_fraction_leaf=0.0,\n",
       "            random_state=None, splitter='best'),\n",
       "       fit_params={}, iid=True, loss_func=None, n_jobs=1,\n",
       "       param_grid={'max_leaf_nodes': [10, 100, 1000], 'criterion': ['gini', 'entropy'], 'max_depth': [2, 4, 8, 16], 'min_samples_leaf': [1, 10, 50]},\n",
       "       pre_dispatch='2*n_jobs', refit=True, score_func=None,\n",
       "       scoring='f1_macro', verbose=0)"
      ]
     },
     "execution_count": 163,
     "metadata": {},
     "output_type": "execute_result"
    }
   ],
   "source": [
    "parameters = {\"max_depth\":[2, 4, 8, 16], \"criterion\":[\"gini\", \"entropy\"], \"min_samples_leaf\":[1, 10, 50], \n",
    "              \"max_leaf_nodes\":[10, 100, 1000]}\n",
    "cv = GridSearchCV(tree.DecisionTreeClassifier(), parameters, scoring=\"f1_macro\")\n",
    "cv.fit(X, y)"
   ]
  },
  {
   "cell_type": "code",
   "execution_count": 164,
   "metadata": {
    "collapsed": false
   },
   "outputs": [
    {
     "data": {
      "text/plain": [
       "0.75185351080143925"
      ]
     },
     "execution_count": 164,
     "metadata": {},
     "output_type": "execute_result"
    }
   ],
   "source": [
    "cv.best_score_"
   ]
  },
  {
   "cell_type": "markdown",
   "metadata": {},
   "source": [
    "Визуализация оптимального классификатора (достаточно простая разделяющая поверхность):"
   ]
  },
  {
   "cell_type": "code",
   "execution_count": 165,
   "metadata": {
    "collapsed": false
   },
   "outputs": [
    {
     "data": {
      "image/png": "[encoded data removed]",
      "text/plain": [
       "<matplotlib.figure.Figure at 0x2422c630>"
      ]
     },
     "metadata": {},
     "output_type": "display_data"
    }
   ],
   "source": [
    "plot(cv, 1, 0, -10, 200, -10, 200)"
   ]
  }
 ],
 "metadata": {
  "kernelspec": {
   "display_name": "Python 2",
   "language": "python",
   "name": "python2"
  },
  "language_info": {
   "codemirror_mode": {
    "name": "ipython",
    "version": 2
   },
   "file_extension": ".py",
   "mimetype": "text/x-python",
   "name": "python",
   "nbconvert_exporter": "python",
   "pygments_lexer": "ipython2",
   "version": "2.7.11"
  }
 },
 "nbformat": 4,
 "nbformat_minor": 0
}
