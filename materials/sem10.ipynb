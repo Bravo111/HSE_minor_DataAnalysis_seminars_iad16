{
 "cells": [
  {
   "cell_type": "code",
   "execution_count": 18,
   "metadata": {
    "collapsed": true
   },
   "outputs": [],
   "source": [
    "import datetime\n",
    "import string\n",
    "import sys\n",
    "import numpy as np"
   ]
  },
  {
   "cell_type": "markdown",
   "metadata": {},
   "source": [
    "# API для получения данных с разных сайтов"
   ]
  },
  {
   "cell_type": "markdown",
   "metadata": {},
   "source": [
    "### Вконтакте"
   ]
  },
  {
   "cell_type": "code",
   "execution_count": 19,
   "metadata": {
    "collapsed": false
   },
   "outputs": [
    {
     "name": "stdout",
     "output_type": "stream",
     "text": [
      "Requirement already satisfied (use --upgrade to upgrade): vk in /home/jupyter/env/lib/python2.7/site-packages\r\n",
      "Requirement already satisfied (use --upgrade to upgrade): requests<3.0,>=2.8 in /home/jupyter/env/lib/python2.7/site-packages (from vk)\r\n",
      "Cleaning up...\r\n"
     ]
    }
   ],
   "source": [
    "! pip install vk\n",
    "# Либо ! pip3 install vk для python3"
   ]
  },
  {
   "cell_type": "markdown",
   "metadata": {},
   "source": [
    "** https://github.com/dimka665/vk ** — github разработчика python версии API\n",
    "\n",
    "** https://vk.com/dev/methods ** — официальное описание методов"
   ]
  },
  {
   "cell_type": "code",
   "execution_count": 20,
   "metadata": {
    "collapsed": false
   },
   "outputs": [],
   "source": [
    "import vk"
   ]
  },
  {
   "cell_type": "markdown",
   "metadata": {},
   "source": [
    "Создаём новую сессию:"
   ]
  },
  {
   "cell_type": "code",
   "execution_count": 21,
   "metadata": {
    "collapsed": false
   },
   "outputs": [],
   "source": [
    "session = vk.Session()\n",
    "api = vk.API(session)"
   ]
  },
  {
   "cell_type": "markdown",
   "metadata": {},
   "source": [
    "##### Скачивание постов со стены сообщества:"
   ]
  },
  {
   "cell_type": "markdown",
   "metadata": {},
   "source": [
    "Например, скачаем 100 постов из «Подслушано HSE»."
   ]
  },
  {
   "cell_type": "code",
   "execution_count": 22,
   "metadata": {
    "collapsed": false
   },
   "outputs": [
    {
     "name": "stderr",
     "output_type": "stream",
     "text": [
      "/home/jupyter/env/local/lib/python2.7/site-packages/requests/packages/urllib3/util/ssl_.py:315: SNIMissingWarning: An HTTPS request has been made, but the SNI (Subject Name Indication) extension to TLS is not available on this platform. This may cause the server to present an incorrect TLS certificate, which can cause validation failures. For more information, see https://urllib3.readthedocs.org/en/latest/security.html#snimissingwarning.\n",
      "  SNIMissingWarning\n",
      "/home/jupyter/env/local/lib/python2.7/site-packages/requests/packages/urllib3/util/ssl_.py:120: InsecurePlatformWarning: A true SSLContext object is not available. This prevents urllib3 from configuring SSL appropriately and may cause certain SSL connections to fail. For more information, see https://urllib3.readthedocs.org/en/latest/security.html#insecureplatformwarning.\n",
      "  InsecurePlatformWarning\n"
     ]
    },
    {
     "data": {
      "text/plain": [
       "101"
      ]
     },
     "execution_count": 22,
     "metadata": {},
     "output_type": "execute_result"
    }
   ],
   "source": [
    "s = api.wall.get(domain='overhearhse', count=100)\n",
    "len(s)"
   ]
  },
  {
   "cell_type": "code",
   "execution_count": 23,
   "metadata": {
    "collapsed": false
   },
   "outputs": [
    {
     "data": {
      "text/plain": [
       "13026"
      ]
     },
     "execution_count": 23,
     "metadata": {},
     "output_type": "execute_result"
    }
   ],
   "source": [
    "s[0]"
   ]
  },
  {
   "cell_type": "markdown",
   "metadata": {},
   "source": [
    "Получили список длины 101, где s[0] — число постов в сообществе, а s[1], …, s[100] — словари, содержащие информацию о посте. "
   ]
  },
  {
   "cell_type": "code",
   "execution_count": 40,
   "metadata": {
    "collapsed": false
   },
   "outputs": [
    {
     "data": {
      "text/plain": [
       "{u'attachment': {u'photo': {u'access_key': u'e920b8dcfc93a6870d',\n",
       "   u'aid': -7,\n",
       "   u'created': 1457822851,\n",
       "   u'height': 450,\n",
       "   u'owner_id': -57354358,\n",
       "   u'pid': 404806927,\n",
       "   u'post_id': 218084,\n",
       "   u'src': u'http://cs630421.vk.me/v630421686/1cf2c/tgwdDGotBmM.jpg',\n",
       "   u'src_big': u'http://cs630421.vk.me/v630421686/1cf2d/HutPMGeAvqw.jpg',\n",
       "   u'src_small': u'http://cs630421.vk.me/v630421686/1cf2b/ctdrjcBBZEc.jpg',\n",
       "   u'text': u'Original: http://regnum.ru/uploads/pictures/news/2015-06/104_big.jpg',\n",
       "   u'user_id': 100,\n",
       "   u'width': 600},\n",
       "  u'type': u'photo'},\n",
       " u'attachments': [{u'photo': {u'access_key': u'e920b8dcfc93a6870d',\n",
       "    u'aid': -7,\n",
       "    u'created': 1457822851,\n",
       "    u'height': 450,\n",
       "    u'owner_id': -57354358,\n",
       "    u'pid': 404806927,\n",
       "    u'post_id': 218084,\n",
       "    u'src': u'http://cs630421.vk.me/v630421686/1cf2c/tgwdDGotBmM.jpg',\n",
       "    u'src_big': u'http://cs630421.vk.me/v630421686/1cf2d/HutPMGeAvqw.jpg',\n",
       "    u'src_small': u'http://cs630421.vk.me/v630421686/1cf2b/ctdrjcBBZEc.jpg',\n",
       "    u'text': u'Original: http://regnum.ru/uploads/pictures/news/2015-06/104_big.jpg',\n",
       "    u'user_id': 100,\n",
       "    u'width': 600},\n",
       "   u'type': u'photo'}],\n",
       " u'comments': {u'count': 10},\n",
       " u'date': 1457875610,\n",
       " u'from_id': -57354358,\n",
       " u'id': 218084,\n",
       " u'likes': {u'count': 18},\n",
       " u'post_type': u'post',\n",
       " u'reposts': {u'count': 0},\n",
       " u'text': u'\\u043f\\u043e\\u0447\\u0435\\u043c\\u0443 \\u044d\\u043a\\u043e\\u043d\\u043e\\u043c\\u0438\\u0447\\u0435\\u0441\\u043a\\u0438\\u0439 \\u0444\\u0430\\u043a\\u0443\\u043b\\u044c\\u0442\\u0435\\u0442 \\u041c\\u0413\\u0423 \\u0441\\u0442\\u0430\\u043b \\u0434\\u0438\\u0432\\u0435\\u0440\\u0433\\u0435\\u043d\\u0442\\u043e\\u043c? \\u043e\\u0431\\u0440\\u0430\\u0442\\u0438\\u043c\\u0441\\u044f \\u043a \\u0434\\u0435\\u044f\\u043d\\u0438\\u044f\\u043c \\u043f\\u0440\\u043e\\u0448\\u043b\\u043e\\u0433\\u043e \\u0434\\u0435\\u043a\\u0430\\u043d\\u0430, \\u0412.\\u041f. \\u041a\\u043e\\u043b\\u0435\\u0441\\u043e\\u0432\\u0430 (1987-2012). \\u0438\\u0442\\u0430\\u043a, \\u043e\\u043d \\u043f\\u0440\\u0430\\u0432\\u0438\\u043b \\u0444\\u0430\\u043a\\u0443\\u043b\\u044c\\u0442\\u0435\\u0442\\u043e\\u043c 25 \\u043b\\u0435\\u0442 \\u0438 \\u043e \\u043d\\u0435\\u043c \\u0434\\u0430\\u0436\\u0435 \\u043d\\u0435\\u0442 \\u0441\\u0442\\u0430\\u0442\\u044c\\u0438 \\u0432 \\u0412\\u0438\\u043a\\u0438\\u043f\\u0435\\u0434\\u0438\\u0438. \\u0447\\u0442\\u043e \\u043f\\u0440\\u043e\\u0438\\u0441\\u0445\\u043e\\u0434\\u0438\\u0442, \\u043a\\u043e\\u0433\\u0434\\u0430 \\u0441\\u0435\\u043b\\u044e\\u043a\\u0438 \\u0443\\u043f\\u0440\\u0430\\u0432\\u043b\\u044f\\u044e\\u0442 \\u043d\\u0430\\u0443\\u043a\\u043e\\u0439? \\u043e\\u043d\\u0430 \\u0438\\u0441\\u0447\\u0435\\u0437\\u0430\\u0435\\u0442 - \\u043d\\u0430 \\u044d\\u043a\\u043e\\u043d\\u043e\\u043c\\u0438\\u0447\\u0435\\u0441\\u043a\\u043e\\u043c \\u0444\\u0430\\u043a\\u0443\\u043b\\u044c\\u0442\\u0435\\u0442\\u0435 \\u041c\\u0413\\u0423 \\u043d\\u0435\\u0442 \\u043f\\u0440\\u0435\\u043f\\u043e\\u0434\\u0430\\u0432\\u0430\\u0442\\u0435\\u043b\\u0435\\u0439 \\u0441 PhD, \\u043d\\u0435\\u0442 \\u043f\\u0443\\u0431\\u043b\\u0438\\u043a\\u0430\\u0446\\u0438\\u0439 \\u0432 Scopus/WoS, \\u043d\\u0435\\u0442 \\u043f\\u0440\\u043e\\u0433\\u0440\\u0430\\u043c\\u043c \\u0434\\u0432\\u043e\\u0439\\u043d\\u044b\\u0445 \\u0434\\u0438\\u043f\\u043b\\u043e\\u043c\\u043e\\u0432. \\u0430 \\u0435\\u0441\\u043b\\u0438 \\u043d\\u0435\\u0442 \\u043d\\u0430\\u0443\\u043a\\u0438 - \\u0442\\u043e \\u0438 \\u043a\\u0430\\u0447\\u0435\\u0441\\u0442\\u0432\\u043e \\u043e\\u0431\\u0440\\u0430\\u0437\\u043e\\u0432\\u0430\\u043d\\u0438\\u044f \\u0441\\u0438\\u043b\\u044c\\u043d\\u043e \\u043f\\u0430\\u0434\\u0430\\u0435\\u0442. \\u0437\\u0430\\u0442\\u043e \\u0442\\u0430\\u043c \\u043c\\u043d\\u043e\\u0433\\u043e \\u043f\\u0440\\u0435\\u043f\\u043e\\u0434\\u0430\\u0432\\u0430\\u0442\\u0435\\u043b\\u0435\\u0439 70+ \\u0438 \\u043c\\u043e\\u0436\\u043d\\u043e \\u043d\\u0435 \\u043f\\u043e\\u0441\\u0435\\u0449\\u0430\\u0442\\u044c \\u0443\\u043d\\u0438\\u0432\\u0435\\u0440 (\\u043f\\u0440\\u0438\\u0445\\u043e\\u0434\\u0438\\u0442\\u0435 \\u0437\\u0430 \\u0434\\u0438\\u043f\\u043b\\u043e\\u043c\\u043e\\u043c \\u043f\\u0440\\u043e\\u0441\\u0442\\u043e \\u0438 \\u0432\\u0441\\u0435).<br><br>\\u0441 \\u0434\\u0440\\u0443\\u0433\\u043e\\u0439 \\u0441\\u0442\\u043e\\u0440\\u043e\\u043d\\u044b, \\u043d\\u0435\\u0442 \\u0442\\u0443\\u043f\\u0435\\u0435 \\u0434\\u0435\\u043b \\u0432 \\u043c\\u0438\\u0440\\u0435, \\u0447\\u0435\\u043c \\u043f\\u0435\\u0447\\u0430\\u0442\\u0430\\u0442\\u044c \\u0442\\u0440\\u0438 \\u0434\\u043d\\u044f \\u0434\\u043e\\u043c\\u0430\\u0448\\u043d\\u0435\\u0435 \\u0437\\u0430\\u0434\\u0430\\u043d\\u0438\\u0435 \\u043f\\u043e \\u043c\\u0438\\u043a\\u0440\\u043e\\u044d\\u043a\\u043e\\u043d\\u043e\\u043c\\u0438\\u043a\\u0435 (\\u0432 \\u0412\\u0428\\u042d \\u043f\\u0440\\u0430\\u043a\\u0442\\u0438\\u043a\\u0443\\u044e\\u0442 \\u0431\\u0435\\u0441\\u043f\\u043e\\u043b\\u0435\\u0437\\u043d\\u044b\\u0435 \\u0432\\u0440\\u0435\\u043c\\u044f-\\u0437\\u0430\\u0442\\u0440\\u0430\\u0442\\u043d\\u044b\\u0435 \\u0434\\u0435\\u043b\\u0430).<br><br>\\u0438\\u0442\\u0430\\u043a, \\u0445\\u0432\\u0430\\u043b\\u0430 \\u0438 \\u0447\\u0435\\u0441\\u0442\\u044c \\u0412.\\u041f. \\u041a\\u043e\\u043b\\u0435\\u0441\\u043e\\u0432\\u0443! \\u0438\\u043c\\u0435\\u043d\\u043d\\u043e \\u043f\\u0440\\u0438 \\u043d\\u0435\\u043c \\u043f\\u0440\\u043e\\u0438\\u0437\\u043e\\u0448\\u043b\\u0430 \\u043f\\u043e\\u043b\\u043d\\u043e\\u043c\\u0430\\u0441\\u0448\\u0442\\u0430\\u0431\\u043d\\u0430\\u044f \\u0443\\u0442\\u0435\\u0447\\u043a\\u0430 \\u043a\\u0430\\u0434\\u0440\\u043e\\u0432 \\u0432 \\u041d\\u0418\\u0423 \\u0412\\u0428\\u042d.',\n",
       " u'to_id': -57354358}"
      ]
     },
     "execution_count": 40,
     "metadata": {},
     "output_type": "execute_result"
    }
   ],
   "source": [
    "post = s[46]\n",
    "post"
   ]
  },
  {
   "cell_type": "code",
   "execution_count": 41,
   "metadata": {
    "collapsed": false
   },
   "outputs": [
    {
     "name": "stdout",
     "output_type": "stream",
     "text": [
      "почему экономический факультет МГУ стал дивергентом? обратимся к деяниям прошлого декана, В.П. Колесова (1987-2012). итак, он правил факультетом 25 лет и о нем даже нет статьи в Википедии. что происходит, когда селюки управляют наукой? она исчезает - на экономическом факультете МГУ нет преподавателей с PhD, нет публикаций в Scopus/WoS, нет программ двойных дипломов. а если нет науки - то и качество образования сильно падает. зато там много преподавателей 70+ и можно не посещать универ (приходите за дипломом просто и все).<br><br>с другой стороны, нет тупее дел в мире, чем печатать три дня домашнее задание по микроэкономике (в ВШЭ практикуют бесполезные время-затратные дела).<br><br>итак, хвала и честь В.П. Колесову! именно при нем произошла полномасштабная утечка кадров в НИУ ВШЭ.\n"
     ]
    }
   ],
   "source": [
    "print post['text']"
   ]
  },
  {
   "cell_type": "markdown",
   "metadata": {},
   "source": [
    "Поле 'date' задано в timestamp-формате, переведём его в человеческий формат:"
   ]
  },
  {
   "cell_type": "code",
   "execution_count": 29,
   "metadata": {
    "collapsed": false
   },
   "outputs": [
    {
     "data": {
      "text/plain": [
       "'2016-03-18 15:36:28'"
      ]
     },
     "execution_count": 29,
     "metadata": {},
     "output_type": "execute_result"
    }
   ],
   "source": [
    "datetime.datetime.fromtimestamp(post['date']).strftime('%Y-%m-%d %H:%M:%S')"
   ]
  },
  {
   "cell_type": "code",
   "execution_count": 42,
   "metadata": {
    "collapsed": false
   },
   "outputs": [
    {
     "name": "stdout",
     "output_type": "stream",
     "text": [
      "Лайков: 18\n",
      "Комментариев: 10\n",
      "Репостов: 0\n",
      "Текст:\n",
      "почему экономический факультет МГУ стал дивергентом? обратимся к деяниям прошлого декана, В.П. Колесова (1987-2012). итак, он правил факультетом 25 лет и о нем даже нет статьи в Википедии. что происходит, когда селюки управляют наукой? она исчезает - на экономическом факультете МГУ нет преподавателей с PhD, нет публикаций в Scopus/WoS, нет программ двойных дипломов. а если нет науки - то и качество образования сильно падает. зато там много преподавателей 70+ и можно не посещать универ (приходите за дипломом просто и все).<br><br>с другой стороны, нет тупее дел в мире, чем печатать три дня домашнее задание по микроэкономике (в ВШЭ практикуют бесполезные время-затратные дела).<br><br>итак, хвала и честь В.П. Колесову! именно при нем произошла полномасштабная утечка кадров в НИУ ВШЭ.\n"
     ]
    }
   ],
   "source": [
    "print \"Лайков:\", post['likes']['count']\n",
    "print \"Комментариев:\", post['comments']['count']\n",
    "print \"Репостов:\", post['reposts']['count']\n",
    "print \"Текст:\\n\", post['text']"
   ]
  },
  {
   "cell_type": "markdown",
   "metadata": {},
   "source": [
    "Разобьём текст на слова:"
   ]
  },
  {
   "cell_type": "code",
   "execution_count": 43,
   "metadata": {
    "collapsed": false
   },
   "outputs": [],
   "source": [
    "from nltk.tokenize import TweetTokenizer"
   ]
  },
  {
   "cell_type": "code",
   "execution_count": 44,
   "metadata": {
    "collapsed": false
   },
   "outputs": [
    {
     "data": {
      "text/plain": [
       "155"
      ]
     },
     "execution_count": 44,
     "metadata": {},
     "output_type": "execute_result"
    }
   ],
   "source": [
    "tokenize = TweetTokenizer() # объект класса\n",
    "list_words = tokenize.tokenize(post['text'])\n",
    "len(list_words)"
   ]
  },
  {
   "cell_type": "code",
   "execution_count": 45,
   "metadata": {
    "collapsed": false
   },
   "outputs": [
    {
     "name": "stdout",
     "output_type": "stream",
     "text": [
      "почему экономический факультет МГУ стал дивергентом ? обратимся к деяниям прошлого декана , В . П . Колесова ( 1987-2012 ) . итак , он правил факультетом 25 лет и о нем даже нет статьи в Википедии . что происходит , когда селюки управляют наукой ? она исчезает - на экономическом факультете МГУ нет преподавателей с PhD , нет публикаций в Scopus / WoS , нет программ двойных дипломов . а если нет науки - то и качество образования сильно падает . зато там много преподавателей 70 + и можно не посещать универ ( приходите за дипломом просто и все ) . <br> <br> с другой стороны , нет тупее дел в мире , чем печатать три дня домашнее задание по микроэкономике ( в ВШЭ практикуют бесполезные время-затратные дела ) . <br> <br> итак , хвала и честь В . П . Колесову ! именно при нем произошла полномасштабная утечка кадров в НИУ ВШЭ . "
     ]
    }
   ],
   "source": [
    "for word in list_words:\n",
    "    sys.stdout.write(word)\n",
    "    sys.stdout.write(' ')"
   ]
  },
  {
   "cell_type": "markdown",
   "metadata": {},
   "source": [
    "Приведём все слова к начальной (нормальной) форме с помощью pymorphy2:"
   ]
  },
  {
   "cell_type": "code",
   "execution_count": 46,
   "metadata": {
    "collapsed": false
   },
   "outputs": [
    {
     "name": "stdout",
     "output_type": "stream",
     "text": [
      "Requirement already satisfied (use --upgrade to upgrade): pymorphy2 in /home/jupyter/env/lib/python2.7/site-packages\r\n",
      "Requirement already satisfied (use --upgrade to upgrade): dawg-python>=0.7 in /home/jupyter/env/lib/python2.7/site-packages (from pymorphy2)\r\n",
      "Requirement already satisfied (use --upgrade to upgrade): pymorphy2-dicts<3.0,>=2.4 in /home/jupyter/env/lib/python2.7/site-packages (from pymorphy2)\r\n",
      "Requirement already satisfied (use --upgrade to upgrade): docopt>=0.6 in /home/jupyter/env/lib/python2.7/site-packages (from pymorphy2)\r\n",
      "Cleaning up...\r\n"
     ]
    }
   ],
   "source": [
    "! pip install pymorphy2"
   ]
  },
  {
   "cell_type": "markdown",
   "metadata": {},
   "source": [
    "** https://pymorphy2.readthedocs.org/en/latest/ ** "
   ]
  },
  {
   "cell_type": "code",
   "execution_count": 47,
   "metadata": {
    "collapsed": false
   },
   "outputs": [],
   "source": [
    "import pymorphy2"
   ]
  },
  {
   "cell_type": "code",
   "execution_count": 49,
   "metadata": {
    "collapsed": false
   },
   "outputs": [],
   "source": [
    "morph = pymorphy2.MorphAnalyzer()"
   ]
  },
  {
   "cell_type": "code",
   "execution_count": 50,
   "metadata": {
    "collapsed": true
   },
   "outputs": [],
   "source": [
    "normal_forms_list = [] \n",
    "for word in list_words:\n",
    "    norm_form = morph.parse(word)[0].normal_form \n",
    "    normal_forms_list.append(norm_form) "
   ]
  },
  {
   "cell_type": "markdown",
   "metadata": {},
   "source": [
    "Исходный текст:"
   ]
  },
  {
   "cell_type": "code",
   "execution_count": 51,
   "metadata": {
    "collapsed": false
   },
   "outputs": [
    {
     "name": "stdout",
     "output_type": "stream",
     "text": [
      "почему экономический факультет МГУ стал дивергентом? обратимся к деяниям прошлого декана, В.П. Колесова (1987-2012). итак, он правил факультетом 25 лет и о нем даже нет статьи в Википедии. что происходит, когда селюки управляют наукой? она исчезает - на экономическом факультете МГУ нет преподавателей с PhD, нет публикаций в Scopus/WoS, нет программ двойных дипломов. а если нет науки - то и качество образования сильно падает. зато там много преподавателей 70+ и можно не посещать универ (приходите за дипломом просто и все).<br><br>с другой стороны, нет тупее дел в мире, чем печатать три дня домашнее задание по микроэкономике (в ВШЭ практикуют бесполезные время-затратные дела).<br><br>итак, хвала и честь В.П. Колесову! именно при нем произошла полномасштабная утечка кадров в НИУ ВШЭ.\n"
     ]
    }
   ],
   "source": [
    "print post['text']"
   ]
  },
  {
   "cell_type": "markdown",
   "metadata": {},
   "source": [
    "Текст со словами в нормальной форме:"
   ]
  },
  {
   "cell_type": "code",
   "execution_count": 53,
   "metadata": {
    "collapsed": false
   },
   "outputs": [
    {
     "name": "stdout",
     "output_type": "stream",
     "text": [
      "почему экономический факультет мгу стать дивергент ? обратиться к деяние прошлое декан , в . плата . колесов ( 1987-2012 ) . итак , он правило факультет 25 год и о немой даже нет статья в википедия . что происходить , когда селюк управлять наука ? она исчезать - на экономический факультет мгу нет преподаватель с phd , нет публикация в scopus / wos , нет программа двойной диплом . а если нет наука - то и качество образование сильно падать . зато там много преподаватель 70 + и можно не посещать универ ( приходить за диплом просто и весь ) . <br> <br> с другой сторона , нет тупей дело в мир , чем печатать три день домашний задание по микроэкономика ( в вшэ практиковать бесполезный время-затратный дело ) . <br> <br> итак , хвала и честь в . плата . колесов ! именно при немой произойти полномасштабный утечка кадр в ниу вшэ .\n"
     ]
    }
   ],
   "source": [
    "print \" \".join(normal_forms_list)"
   ]
  },
  {
   "cell_type": "markdown",
   "metadata": {},
   "source": [
    "Можно убрать знаки препинания и теги:"
   ]
  },
  {
   "cell_type": "code",
   "execution_count": 54,
   "metadata": {
    "collapsed": false
   },
   "outputs": [],
   "source": [
    "normal_forms_list = [] \n",
    "for word in list_words:\n",
    "    if word not in string.punctuation and word[0] != \"<\":\n",
    "        norm_form = morph.parse(word)[0].normal_form \n",
    "        normal_forms_list.append(norm_form) "
   ]
  },
  {
   "cell_type": "code",
   "execution_count": 56,
   "metadata": {
    "collapsed": false
   },
   "outputs": [
    {
     "name": "stdout",
     "output_type": "stream",
     "text": [
      "почему экономический факультет мгу стать дивергент обратиться к деяние прошлое декан в плата колесов 1987-2012 итак он правило факультет 25 год и о немой даже нет статья в википедия что происходить когда селюк управлять наука она исчезать на экономический факультет мгу нет преподаватель с phd нет публикация в scopus wos нет программа двойной диплом а если нет наука то и качество образование сильно падать зато там много преподаватель 70 и можно не посещать универ приходить за диплом просто и весь с другой сторона нет тупей дело в мир чем печатать три день домашний задание по микроэкономика в вшэ практиковать бесполезный время-затратный дело итак хвала и честь в плата колесов именно при немой произойти полномасштабный утечка кадр в ниу вшэ\n"
     ]
    }
   ],
   "source": [
    "print \" \".join(normal_forms_list)"
   ]
  },
  {
   "cell_type": "markdown",
   "metadata": {},
   "source": [
    "С этим тестом уже можно работать.\n",
    "\n",
    "Обсудим ещё одну проблему работы в API vk. В документации метода wall.get (https://vk.com/dev/wall.get) написано, что максимальное число постов — это 100. Но есть параметр offset, отвечающий за сдвиг. Напишем функцию, которая считает нужное количество постов из «Подслушано HSE»."
   ]
  },
  {
   "cell_type": "code",
   "execution_count": 57,
   "metadata": {
    "collapsed": false
   },
   "outputs": [],
   "source": [
    "def load_all_posts(page='overhearhse', n_posts=500):\n",
    "    all_posts = api.wall.get(domain=page, count=n_posts) # Если n_posts > 100, то скачается 100\n",
    "    n_loaded = len(all_posts) - 1\n",
    "    while n_loaded < n_posts:\n",
    "        s = api.wall.get(domain=page, offset=n_loaded, count=(n_posts - n_loaded))\n",
    "        all_posts += s[1:]\n",
    "        n_loaded += len(s) - 1\n",
    "    return all_posts"
   ]
  },
  {
   "cell_type": "code",
   "execution_count": 58,
   "metadata": {
    "collapsed": false
   },
   "outputs": [
    {
     "name": "stderr",
     "output_type": "stream",
     "text": [
      "/home/jupyter/env/local/lib/python2.7/site-packages/requests/packages/urllib3/util/ssl_.py:120: InsecurePlatformWarning: A true SSLContext object is not available. This prevents urllib3 from configuring SSL appropriately and may cause certain SSL connections to fail. For more information, see https://urllib3.readthedocs.org/en/latest/security.html#insecureplatformwarning.\n",
      "  InsecurePlatformWarning\n",
      "/home/jupyter/env/local/lib/python2.7/site-packages/requests/packages/urllib3/util/ssl_.py:120: InsecurePlatformWarning: A true SSLContext object is not available. This prevents urllib3 from configuring SSL appropriately and may cause certain SSL connections to fail. For more information, see https://urllib3.readthedocs.org/en/latest/security.html#insecureplatformwarning.\n",
      "  InsecurePlatformWarning\n"
     ]
    }
   ],
   "source": [
    "all_posts = load_all_posts(n_posts=s[0]) # s[0] — количество постов в сообществе"
   ]
  },
  {
   "cell_type": "markdown",
   "metadata": {},
   "source": [
    "Самый первый пост в «Подслушано HSE»:"
   ]
  },
  {
   "cell_type": "code",
   "execution_count": 59,
   "metadata": {
    "collapsed": false
   },
   "outputs": [
    {
     "name": "stdout",
     "output_type": "stream",
     "text": [
      "Я поступил в этом году в вышку на БИ. Когда принес документы, познакомился с удивительной девушкой с моего же факультета, оба приехали из далеких городов, круглосуточные переписки в вк, разговоры по телефону ночью, оба ждем переезда в Москву, ребят, кажется, я влюбился.\n"
     ]
    }
   ],
   "source": [
    "print all_posts[-1]['text']"
   ]
  },
  {
   "cell_type": "code",
   "execution_count": 60,
   "metadata": {
    "collapsed": false
   },
   "outputs": [
    {
     "data": {
      "text/plain": [
       "'2013-08-20 15:04:26'"
      ]
     },
     "execution_count": 60,
     "metadata": {},
     "output_type": "execute_result"
    }
   ],
   "source": [
    "datetime.datetime.fromtimestamp(all_posts[-1]['date']).strftime('%Y-%m-%d %H:%M:%S')"
   ]
  },
  {
   "cell_type": "markdown",
   "metadata": {},
   "source": [
    "##### Получение информации о пользователе:"
   ]
  },
  {
   "cell_type": "code",
   "execution_count": 63,
   "metadata": {
    "collapsed": false
   },
   "outputs": [
    {
     "name": "stdout",
     "output_type": "stream",
     "text": [
      "{u'first_name': u'\\u041f\\u0430\\u0432\\u0435\\u043b', u'last_name': u'\\u0414\\u0443\\u0440\\u043e\\u0432', u'uid': 1}\n"
     ]
    }
   ],
   "source": [
    "user = api.users.get(user_ids=1)[0]\n",
    "print user"
   ]
  },
  {
   "cell_type": "code",
   "execution_count": 64,
   "metadata": {
    "collapsed": false
   },
   "outputs": [
    {
     "name": "stdout",
     "output_type": "stream",
     "text": [
      "Павел Дуров\n"
     ]
    }
   ],
   "source": [
    "print user[u'first_name'], user[u'last_name']"
   ]
  },
  {
   "cell_type": "markdown",
   "metadata": {},
   "source": [
    "fields — это список дополнительных полей профилей, которые необходимо вернуть:\n",
    "> \n",
    "Доступные значения: photo_id, verified, sex, bdate, city, country, home_town, has_photo, photo_50, photo_100, photo_200_orig, photo_200, photo_400_orig, photo_max, photo_max_orig, online, lists, domain, has_mobile, contacts, site, education, universities, schools, status, last_seen, followers_count, common_count, occupation, nickname, relatives, relation, personal, connections, exports, wall_comments, activities, interests, music, movies, tv, books, games, about, quotes, can_post, can_see_all_posts, can_see_audio, can_write_private_message, can_send_friend_request, is_favorite, is_hidden_from_feed, timezone, screen_name, maiden_name, crop_photo, is_friend, friend_status, career, military, blacklisted, blacklisted_by_me. "
   ]
  },
  {
   "cell_type": "code",
   "execution_count": 65,
   "metadata": {
    "collapsed": false
   },
   "outputs": [],
   "source": [
    "user = api.users.get(user_ids=32448848, fields=['relation', 'bdate', 'photo_100', 'contacts'])[0]"
   ]
  },
  {
   "cell_type": "code",
   "execution_count": 66,
   "metadata": {
    "collapsed": false
   },
   "outputs": [
    {
     "name": "stdout",
     "output_type": "stream",
     "text": [
      "1\n",
      "9.11.1995\n",
      "http://cs620731.vk.me/v620731848/1ed92/E7SxkBDl4cg.jpg\n",
      "This field is hidden\n"
     ]
    }
   ],
   "source": [
    "print user['relation']\n",
    "print user['bdate']\n",
    "print user['photo_100']\n",
    "# Если поле не открыто из-за настроек приватности, выбрасывается исключение:\n",
    "try:\n",
    "    print user['contacts']\n",
    "except(KeyError):\n",
    "    print \"This field is hidden\""
   ]
  },
  {
   "cell_type": "markdown",
   "metadata": {},
   "source": [
    "Можно бродить по всем подписчикам сообщества и собирать данные..."
   ]
  },
  {
   "cell_type": "markdown",
   "metadata": {},
   "source": [
    "Идеи проектов:\n",
    "* Оценка возраста пользователя по записям на его странице, возрасту друзей, количеству друзей, количеству фотографий и так далее.\n",
    "* Оценка количества лайков, которое получит пост. Из нетекстовых признаков можно взять час размещения, длину сообщения...\n",
    "* Определение, является ли страничка фейковой, созданной для спама.\n",
    "* Определение семейного положения пользователя.\n",
    "* ..."
   ]
  },
  {
   "cell_type": "markdown",
   "metadata": {},
   "source": [
    "### Metrolyrics"
   ]
  },
  {
   "cell_type": "code",
   "execution_count": 67,
   "metadata": {
    "collapsed": false
   },
   "outputs": [
    {
     "name": "stdout",
     "output_type": "stream",
     "text": [
      "Requirement already satisfied (use --upgrade to upgrade): lxml in /home/jupyter/env/lib/python2.7/site-packages\n",
      "Cleaning up...\n",
      "Requirement already satisfied (use --upgrade to upgrade): requests in /home/jupyter/env/lib/python2.7/site-packages\n",
      "Cleaning up...\n"
     ]
    }
   ],
   "source": [
    "# Необходимые пакеты:\n",
    "! pip install lxml \n",
    "! pip install requests"
   ]
  },
  {
   "cell_type": "markdown",
   "metadata": {},
   "source": [
    "https://github.com/brenns10/tswift/"
   ]
  },
  {
   "cell_type": "code",
   "execution_count": 68,
   "metadata": {
    "collapsed": false
   },
   "outputs": [
    {
     "name": "stdout",
     "output_type": "stream",
     "text": [
      "Downloading/unpacking https://github.com/brenns10/tswift/archive/master.zip\n",
      "  Downloading master.zip (unknown size): 4.1Kb downloaded\n",
      "  Running setup.py egg_info for package from https://github.com/brenns10/tswift/archive/master.zip\n",
      "    \n",
      "Requirement already satisfied (use --upgrade to upgrade): lxml in /home/jupyter/env/lib/python2.7/site-packages (from tswift==0.1.0)\n",
      "Requirement already satisfied (use --upgrade to upgrade): requests in /home/jupyter/env/lib/python2.7/site-packages (from tswift==0.1.0)\n",
      "Cleaning up...\n"
     ]
    }
   ],
   "source": [
    "! pip install https://github.com/brenns10/tswift/archive/master.zip"
   ]
  },
  {
   "cell_type": "code",
   "execution_count": 69,
   "metadata": {
    "collapsed": false
   },
   "outputs": [
    {
     "name": "stdout",
     "output_type": "stream",
     "text": [
      "(Hey hey hey)\n",
      "(Hey hey hey)\n",
      "(Hey hey hey)\n",
      "(Hey hey hey)\n",
      "People like you always want back the love they gave away\n",
      "And people like me wanna believe you when you say you've changed\n",
      "The more I think about it now the less I know\n",
      "All I know is that you drove us off the road\n",
      "\n",
      "Stay, hey, all you had to do was stay\n",
      "Had me in the palm of your hand\n",
      "Then, why'd you had to go and lock me out when I let you in\n",
      "Stay, hey, now you say you want it\n",
      "Back now that it's just too late\n",
      "Well could've been easy\n",
      "All you had to do was stay\n",
      "\n",
      "All you had to do was stay\n",
      "All you had to do was stay\n",
      "All you had to do was stay\n",
      "All you had to do was stay\n",
      "\n",
      "Here you are now, calling me up, but I don't know what to say\n",
      "I've been picking up the pieces of the mess you made\n",
      "People like you always want back the love they pushed aside\n",
      "But people like me are gone forever when you say goodbye\n",
      "\n",
      "Stay, hey, all you had to do was stay\n",
      "Had me in the palm of your hand\n",
      "Then, why'd you had to go and lock me out when I let you in\n",
      "Stay, hey, now you say you want it\n",
      "Back now that it's just too late\n",
      "Well could've been easy\n",
      "All you had to do was stay\n",
      "\n",
      "All you had to do was stay\n",
      "All you had to do was stay\n",
      "All you had to do was stay (Stay, stay, stay)\n",
      "\n",
      "Let me remind you this was what you wanted (Oh oh oh)\n",
      "You ended it\n",
      "You were all I wanted (Oh oh oh)\n",
      "But not like this\n",
      "Not like this\n",
      "Not like this\n",
      "Oh, all you had to do was stay\n",
      "\n",
      "Hey, all you had to do was stay\n",
      "Had me in the palm of your hand\n",
      "Then, why'd you had to go and lock me out when I let you in\n",
      "Stay, hey, now you say you want it\n",
      "Back now that it's just too late\n",
      "Well could've been easy\n",
      "All you had to do was stay\n",
      "\n",
      "Hey, all you had to do was stay\n",
      "Had me in the palm of your hand\n",
      "Then, why'd you had to go and lock me out when I let you in\n",
      "Stay, hey, now you say you want it\n",
      "Back now that it's just too late\n",
      "Well could've been easy (All you had to do was stay)\n",
      "All you had to do was stay\n",
      "\n",
      "All you had to do was stay (Oh)\n",
      "All you had to do was stay\n",
      "All you had to do was stay\n",
      "All you had to do was stay (Ooh)\n"
     ]
    }
   ],
   "source": [
    "from tswift import Artist\n",
    "import random\n",
    "\n",
    "tswift = Artist('taylor-swift')\n",
    "tswift.load()\n",
    "\n",
    "song = random.choice(tswift.songs)\n",
    "song.load()\n",
    "print song.lyrics"
   ]
  },
  {
   "cell_type": "markdown",
   "metadata": {},
   "source": [
    "Но иногда в текстах попадаются строчки, не относящиеся к песне:"
   ]
  },
  {
   "cell_type": "code",
   "execution_count": 72,
   "metadata": {
    "collapsed": false
   },
   "outputs": [
    {
     "name": "stdout",
     "output_type": "stream",
     "text": [
      "Number of Radiohead songs: 223 \n",
      "\n",
      "How come I end up where I started?\n",
      "How come I end up where I went wrong?\n",
      "Won't take my eyes off the ball again\n",
      "You reel me out then you cut the string\n",
      "\n",
      "How come I end up where I started?\n",
      "How come I end up where I went wrong?\n",
      "Won't take my eyes off the ball again\n",
      "You used to reel me out and then cut the string\n",
      "\n",
      "\n",
      "\n",
      "meaning\n",
      "\n",
      " byGHeather14\t\n",
      "\n",
      "\n",
      "\n",
      "it's about trying to move on from a dark past\t\n",
      "\n",
      "\n",
      "See all\n",
      "\n",
      "\n",
      "\n",
      "You used to be alright\n",
      "What happened?\n",
      "Did the cat get your tongue\n",
      "Did your string come undone\n",
      "\n",
      "One by one\n",
      "One by one\n",
      "It comes to us all\n",
      "It's as soft as your pillow\n",
      "\n",
      "You used to be alright\n",
      "What happened?\n",
      "Et cetera, et cetera\n",
      "\n",
      "Fads for whatever\n",
      "15 steps\n",
      "Then a sheer drop\n",
      "\n",
      "How come I end up where I started?\n",
      "How come I end up where I went wrong?\n",
      "Won't take my eyes off the ball again\n",
      "You reel me out then you cut the string\n"
     ]
    }
   ],
   "source": [
    "from tswift import Artist\n",
    "import random\n",
    "\n",
    "radiohead = Artist('radiohead')\n",
    "radiohead.load()\n",
    "\n",
    "print \"Number of Radiohead songs:\", len(radiohead.songs), \"\\n\"\n",
    "song = radiohead.songs[0]\n",
    "song.load()\n",
    "print song.lyrics"
   ]
  },
  {
   "cell_type": "markdown",
   "metadata": {},
   "source": [
    "### Где брать готовые датасеты?"
   ]
  },
  {
   "cell_type": "markdown",
   "metadata": {},
   "source": [
    "http://archive.ics.uci.edu/ml/ — самый популярный репозиторий с датасетами; поэтому датасеты оттуда уже набили оскомину. Ими вы никого не удивите, но для проекта сойдёт.\n",
    "\n",
    "https://www.data.gov/ — U.S. Government’s open data\n",
    "\n",
    "https://www.kaggle.com/datasets — коллекция датасетов на Кэггле\n",
    "\n",
    "https://github.com/caesar0301/awesome-public-datasets — подборка датасетов, созданная одним из пользователей гитхаба.\n",
    "\n",
    "Выбор данных лучше всего согласовать с нами."
   ]
  },
  {
   "cell_type": "markdown",
   "metadata": {
    "collapsed": true
   },
   "source": [
    "### TF-IDF"
   ]
  },
  {
   "cell_type": "code",
   "execution_count": 75,
   "metadata": {
    "collapsed": false
   },
   "outputs": [
    {
     "data": {
      "text/plain": [
       "array([[ 0.        ,  0.57615236,  0.40993715,  0.        ,  0.57615236,\n",
       "         0.40993715],\n",
       "       [ 0.57615236,  0.        ,  0.40993715,  0.57615236,  0.        ,\n",
       "         0.40993715]])"
      ]
     },
     "execution_count": 75,
     "metadata": {},
     "output_type": "execute_result"
    }
   ],
   "source": [
    "corpus = [\"Лишь только пепел знает\", \"Не только лишь все\"]\n",
    "from sklearn.feature_extraction.text import TfidfVectorizer\n",
    "vectorizer = TfidfVectorizer()\n",
    "vectorizer.fit(corpus)\n",
    "vectorizer.transform(corpus).toarray()"
   ]
  },
  {
   "cell_type": "code",
   "execution_count": 76,
   "metadata": {
    "collapsed": false
   },
   "outputs": [
    {
     "name": "stdout",
     "output_type": "stream",
     "text": [
      "все\n",
      "знает\n",
      "лишь\n",
      "не\n",
      "пепел\n",
      "только\n"
     ]
    }
   ],
   "source": [
    "for word in vectorizer.get_feature_names():\n",
    "    print word"
   ]
  },
  {
   "cell_type": "code",
   "execution_count": 228,
   "metadata": {
    "collapsed": false
   },
   "outputs": [
    {
     "data": {
      "text/plain": [
       "array([ 1.40546511,  1.40546511,  1.        ,  1.40546511,  1.40546511,  1.        ])"
      ]
     },
     "execution_count": 228,
     "metadata": {},
     "output_type": "execute_result"
    }
   ],
   "source": [
    "vectorizer.idf_"
   ]
  },
  {
   "cell_type": "markdown",
   "metadata": {
    "collapsed": true
   },
   "source": [
    "### One-Hot Encoder"
   ]
  },
  {
   "cell_type": "markdown",
   "metadata": {},
   "source": [
    "http://scikit-learn.org/stable/modules/preprocessing.html#encoding-categorical-features"
   ]
  },
  {
   "cell_type": "code",
   "execution_count": 77,
   "metadata": {
    "collapsed": true
   },
   "outputs": [],
   "source": [
    "from sklearn.preprocessing import OneHotEncoder\n",
    "enc = OneHotEncoder()"
   ]
  },
  {
   "cell_type": "code",
   "execution_count": 81,
   "metadata": {
    "collapsed": false
   },
   "outputs": [
    {
     "data": {
      "text/plain": [
       "OneHotEncoder(categorical_features='all', dtype=<type 'float'>,\n",
       "       handle_unknown='error', n_values='auto', sparse=True)"
      ]
     },
     "execution_count": 81,
     "metadata": {},
     "output_type": "execute_result"
    }
   ],
   "source": [
    "enc.fit([[1], [2], [3]])"
   ]
  },
  {
   "cell_type": "code",
   "execution_count": 84,
   "metadata": {
    "collapsed": false
   },
   "outputs": [
    {
     "data": {
      "text/plain": [
       "array([[ 1.,  0.,  0.],\n",
       "       [ 0.,  1.,  0.],\n",
       "       [ 0.,  0.,  1.]])"
      ]
     },
     "execution_count": 84,
     "metadata": {},
     "output_type": "execute_result"
    }
   ],
   "source": [
    "enc.transform([[1], [2], [3]]).toarray()"
   ]
  },
  {
   "cell_type": "code",
   "execution_count": null,
   "metadata": {
    "collapsed": true
   },
   "outputs": [],
   "source": []
  },
  {
   "cell_type": "markdown",
   "metadata": {
    "collapsed": true
   },
   "source": [
    "https://docs.google.com/document/d/17rXxZvS1gjZUwvns-bFrh1lsR2I5HygeNKJm5ZJQd_E/"
   ]
  }
 ],
 "metadata": {
  "kernelspec": {
   "display_name": "Python 2",
   "language": "python",
   "name": "python2"
  },
  "language_info": {
   "codemirror_mode": {
    "name": "ipython",
    "version": 2
   },
   "file_extension": ".py",
   "mimetype": "text/x-python",
   "name": "python",
   "nbconvert_exporter": "python",
   "pygments_lexer": "ipython2",
   "version": "2.7.3"
  }
 },
 "nbformat": 4,
 "nbformat_minor": 0
}
